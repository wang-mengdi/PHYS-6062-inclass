{
 "cells": [
  {
   "cell_type": "markdown",
   "metadata": {},
   "source": [
    "# PHYS 6260 - Week 1\n",
    "## Introduction to Python "
   ]
  },
  {
   "cell_type": "markdown",
   "metadata": {},
   "source": [
    "## Containers: Tuples, Lists, Arrays, and Dictionaries"
   ]
  },
  {
   "cell_type": "markdown",
   "metadata": {},
   "source": [
    "### Tuples\n",
    "* Tuples are denoted by parentheses and **cannot be modified**.  Usually they can be used as parameters, not changable variables.\n",
    "* Elements of a tuple are accessed by the [] operator.\n",
    "* Remember that python is 0-based (like C++, but not Java)"
   ]
  },
  {
   "cell_type": "code",
   "execution_count": 1,
   "metadata": {
    "collapsed": false,
    "jupyter": {
     "outputs_hidden": false
    }
   },
   "outputs": [
    {
     "name": "stdout",
     "output_type": "stream",
     "text": [
      "(5, 1, 8, 3, 8, 'a', True)\n",
      "1\n"
     ]
    }
   ],
   "source": [
    "tup = (5,1,8,3,8,'a',True)\n",
    "print(tup)\n",
    "print(tup[1])"
   ]
  },
  {
   "cell_type": "markdown",
   "metadata": {},
   "source": [
    "There are only two methods associated with searching a tuple.\n",
    "* `index`: returns the element number of the first instance of the argument\n",
    "* `count`: returns hold many instances of the argument"
   ]
  },
  {
   "cell_type": "code",
   "execution_count": 2,
   "metadata": {
    "collapsed": false,
    "jupyter": {
     "outputs_hidden": false
    }
   },
   "outputs": [
    {
     "name": "stdout",
     "output_type": "stream",
     "text": [
      "2\n",
      "2\n",
      "1\n"
     ]
    }
   ],
   "source": [
    "print(tup.index(8))\n",
    "print(tup.count(8))\n",
    "print(tup.count(5))"
   ]
  },
  {
   "cell_type": "code",
   "execution_count": 3,
   "metadata": {},
   "outputs": [
    {
     "name": "stdout",
     "output_type": "stream",
     "text": [
      "7\n"
     ]
    }
   ],
   "source": [
    "print(len(tup))"
   ]
  },
  {
   "cell_type": "code",
   "execution_count": 4,
   "metadata": {},
   "outputs": [
    {
     "name": "stdout",
     "output_type": "stream",
     "text": [
      "10\n",
      "2\n",
      "16\n",
      "6\n",
      "16\n",
      "aa\n",
      "2\n"
     ]
    }
   ],
   "source": [
    "for i in tup:\n",
    "    print(i*2)"
   ]
  },
  {
   "cell_type": "code",
   "execution_count": 5,
   "metadata": {},
   "outputs": [
    {
     "ename": "TypeError",
     "evalue": "'tuple' object does not support item assignment",
     "output_type": "error",
     "traceback": [
      "\u001b[0;31m---------------------------------------------------------------------------\u001b[0m",
      "\u001b[0;31mTypeError\u001b[0m                                 Traceback (most recent call last)",
      "\u001b[1;32m/Users/alishavira/Desktop/IntroPythonProgramming.ipynb Cell 9\u001b[0m line \u001b[0;36m1\n\u001b[0;32m----> <a href='vscode-notebook-cell:/Users/alishavira/Desktop/IntroPythonProgramming.ipynb#X11sZmlsZQ%3D%3D?line=0'>1</a>\u001b[0m tup[\u001b[39m1\u001b[39;49m] \u001b[39m=\u001b[39m \u001b[39m1\u001b[39m\n",
      "\u001b[0;31mTypeError\u001b[0m: 'tuple' object does not support item assignment"
     ]
    }
   ],
   "source": [
    "tup[1] = 1"
   ]
  },
  {
   "cell_type": "markdown",
   "metadata": {},
   "source": [
    "### Lists\n",
    "* Lists are much more useful in python, as their elements can be modified, and they can shortened or lengthened.\n",
    "* List elements may have different variable types.  For example, a list can contain an integer, string, and complex number."
   ]
  },
  {
   "cell_type": "code",
   "execution_count": 6,
   "metadata": {
    "collapsed": false,
    "jupyter": {
     "outputs_hidden": false
    }
   },
   "outputs": [
    {
     "name": "stdout",
     "output_type": "stream",
     "text": [
      "[1, 2.0, '3.00']\n"
     ]
    }
   ],
   "source": [
    "multitype = [1, 2.0, '3.00']\n",
    "print(multitype)"
   ]
  },
  {
   "cell_type": "markdown",
   "metadata": {},
   "source": [
    "Here are two examples of adding to and removing from a list with the `append` and `remove` methods."
   ]
  },
  {
   "cell_type": "code",
   "execution_count": 7,
   "metadata": {
    "collapsed": false,
    "jupyter": {
     "outputs_hidden": false
    }
   },
   "outputs": [
    {
     "name": "stdout",
     "output_type": "stream",
     "text": [
      "[1, 3, 5, 7, 9, 5, 11]\n",
      "[1, 3, 5, 7, 9, 5, 11, 13]\n",
      "[1, 3, 7, 9, 5, 11, 13]\n"
     ]
    }
   ],
   "source": [
    "test_list = [1,3,5,7,9,5,11]\n",
    "print(test_list)\n",
    "test_list.append(13)\n",
    "print(test_list)\n",
    "test_list.remove(5)\n",
    "print(test_list)"
   ]
  },
  {
   "cell_type": "markdown",
   "metadata": {},
   "source": [
    "One can determine a length of a list or tuple with the method `len()`"
   ]
  },
  {
   "cell_type": "code",
   "execution_count": 8,
   "metadata": {
    "collapsed": false,
    "jupyter": {
     "outputs_hidden": false
    }
   },
   "outputs": [
    {
     "name": "stdout",
     "output_type": "stream",
     "text": [
      "The tuple (5, 1, 8, 3, 8, 'a', True) has 7 elements\n",
      "len(test_list) = 7\n"
     ]
    }
   ],
   "source": [
    "test_list = [1,3,5,7,9,5,11]\n",
    "\n",
    "print(\"The tuple %s has %d elements\" % (tup, len(tup)))\n",
    "print(\"len(test_list) = %d\" % (len(test_list)))"
   ]
  },
  {
   "cell_type": "markdown",
   "metadata": {},
   "source": [
    "We can also sort a list in-place."
   ]
  },
  {
   "cell_type": "code",
   "execution_count": 9,
   "metadata": {
    "collapsed": false,
    "jupyter": {
     "outputs_hidden": false
    }
   },
   "outputs": [
    {
     "name": "stdout",
     "output_type": "stream",
     "text": [
      "[-18, -1, 12, 38]\n"
     ]
    }
   ],
   "source": [
    "list_to_sort = [38,-1,12,-18]\n",
    "list_to_sort.sort()\n",
    "print(list_to_sort)"
   ]
  },
  {
   "cell_type": "markdown",
   "metadata": {},
   "source": [
    "* Lists are good (but arrays are better, we'll cover those next) for vectors.\n",
    "* Suppose if we have a particle at the coordinate x,y,z, stored in individual variables.\n",
    "* We can create a list from those variables."
   ]
  },
  {
   "cell_type": "code",
   "execution_count": 10,
   "metadata": {
    "collapsed": false,
    "jupyter": {
     "outputs_hidden": false
    }
   },
   "outputs": [
    {
     "name": "stdout",
     "output_type": "stream",
     "text": [
      "[0.12, 0.83, 0.53]\n",
      "[0.12, 0.83, 0.53, 0.12, 0.83, 0.53, 0.12, 0.83, 0.53]\n",
      "[0.5, 0.5, 0.5]\n"
     ]
    }
   ],
   "source": [
    "x = 0.12\n",
    "y = 0.83\n",
    "z = 0.53\n",
    "r = [x, y, z]\n",
    "print(r)\n",
    "print(3*r)\n",
    "print(3*[0.5])"
   ]
  },
  {
   "cell_type": "markdown",
   "metadata": {},
   "source": [
    "* There are several methods associated with lists for searching, sorting, and modifying.\n",
    "* *Only the method names are important, but if you're curious, I used some short-hand notation for looping, which haven't covered yet, to remove the private methods.*"
   ]
  },
  {
   "cell_type": "code",
   "execution_count": 11,
   "metadata": {},
   "outputs": [
    {
     "data": {
      "text/plain": [
       "['__add__',\n",
       " '__class__',\n",
       " '__contains__',\n",
       " '__delattr__',\n",
       " '__delitem__',\n",
       " '__dir__',\n",
       " '__doc__',\n",
       " '__eq__',\n",
       " '__format__',\n",
       " '__ge__',\n",
       " '__getattribute__',\n",
       " '__getitem__',\n",
       " '__gt__',\n",
       " '__hash__',\n",
       " '__iadd__',\n",
       " '__imul__',\n",
       " '__init__',\n",
       " '__init_subclass__',\n",
       " '__iter__',\n",
       " '__le__',\n",
       " '__len__',\n",
       " '__lt__',\n",
       " '__mul__',\n",
       " '__ne__',\n",
       " '__new__',\n",
       " '__reduce__',\n",
       " '__reduce_ex__',\n",
       " '__repr__',\n",
       " '__reversed__',\n",
       " '__rmul__',\n",
       " '__setattr__',\n",
       " '__setitem__',\n",
       " '__sizeof__',\n",
       " '__str__',\n",
       " '__subclasshook__',\n",
       " 'append',\n",
       " 'clear',\n",
       " 'copy',\n",
       " 'count',\n",
       " 'extend',\n",
       " 'index',\n",
       " 'insert',\n",
       " 'pop',\n",
       " 'remove',\n",
       " 'reverse',\n",
       " 'sort']"
      ]
     },
     "execution_count": 11,
     "metadata": {},
     "output_type": "execute_result"
    }
   ],
   "source": [
    "dir(r)"
   ]
  },
  {
   "cell_type": "code",
   "execution_count": 12,
   "metadata": {
    "collapsed": false,
    "jupyter": {
     "outputs_hidden": false
    }
   },
   "outputs": [
    {
     "name": "stdout",
     "output_type": "stream",
     "text": [
      "['append', 'clear', 'copy', 'count', 'extend', 'index', 'insert', 'pop', 'remove', 'reverse', 'sort']\n"
     ]
    }
   ],
   "source": [
    "print([d for d in dir(r) if not d.startswith('__')])"
   ]
  },
  {
   "cell_type": "markdown",
   "metadata": {},
   "source": [
    "### Arrays\n",
    "* Arrays are like lists but are ordered and contain a single type\n",
    "* They can be multi-dimensional\n",
    "* They are part of the `numpy` package\n",
    "* Array operations are possible and much faster than loops\n",
    "* Let's create two arrays: a 1D array with increasing numbers and 2D array with twos.\n",
    "* By default, arrays contain floats"
   ]
  },
  {
   "cell_type": "code",
   "execution_count": 13,
   "metadata": {
    "collapsed": false,
    "jupyter": {
     "outputs_hidden": false
    }
   },
   "outputs": [
    {
     "name": "stdout",
     "output_type": "stream",
     "text": [
      "one_d = [0 1 2]\n",
      "two_d = [[ 0  2  4]\n",
      " [ 6  8 10]\n",
      " [12 14 16]]\n"
     ]
    }
   ],
   "source": [
    "import numpy as np\n",
    "one_d = np.arange(3)\n",
    "two_d = 2 * np.arange(9).reshape((3,3))  # 3x3 matrix\n",
    "print('one_d = %s' % (one_d))\n",
    "print('two_d = %s' % (two_d))"
   ]
  },
  {
   "cell_type": "code",
   "execution_count": 14,
   "metadata": {},
   "outputs": [
    {
     "data": {
      "text/plain": [
       "True"
      ]
     },
     "execution_count": 14,
     "metadata": {},
     "output_type": "execute_result"
    }
   ],
   "source": [
    "isinstance(two_d, np.ndarray)"
   ]
  },
  {
   "cell_type": "markdown",
   "metadata": {},
   "source": [
    "One can select a single element out of the array"
   ]
  },
  {
   "cell_type": "code",
   "execution_count": 15,
   "metadata": {
    "collapsed": false,
    "jupyter": {
     "outputs_hidden": false
    }
   },
   "outputs": [
    {
     "name": "stdout",
     "output_type": "stream",
     "text": [
      "1 8\n"
     ]
    }
   ],
   "source": [
    "a = one_d[1]\n",
    "b = two_d[1,1]\n",
    "print(a, b)"
   ]
  },
  {
   "cell_type": "markdown",
   "metadata": {},
   "source": [
    "Or one can \"slice\" an array, obtaining multiple elements"
   ]
  },
  {
   "cell_type": "code",
   "execution_count": 16,
   "metadata": {
    "collapsed": false,
    "jupyter": {
     "outputs_hidden": false
    }
   },
   "outputs": [
    {
     "name": "stdout",
     "output_type": "stream",
     "text": [
      "[0 1]\n",
      "[ 0  6 12]\n"
     ]
    }
   ],
   "source": [
    "print(one_d[0:2]) # includes 0,1 elements, but not 3rd (2) element\n",
    "print(two_d[:,0]) # the first column"
   ]
  },
  {
   "cell_type": "markdown",
   "metadata": {},
   "source": [
    "Arrays can be used in arithmetic operations."
   ]
  },
  {
   "cell_type": "code",
   "execution_count": 17,
   "metadata": {
    "collapsed": false,
    "jupyter": {
     "outputs_hidden": false
    }
   },
   "outputs": [
    {
     "name": "stdout",
     "output_type": "stream",
     "text": [
      "[ 0  5 10]\n"
     ]
    }
   ],
   "source": [
    "c = 5*one_d\n",
    "print(c)"
   ]
  },
  {
   "cell_type": "code",
   "execution_count": 18,
   "metadata": {
    "collapsed": false,
    "jupyter": {
     "outputs_hidden": false
    }
   },
   "outputs": [
    {
     "name": "stdout",
     "output_type": "stream",
     "text": [
      "[0 1 2]\n",
      "[[ 0  2  4]\n",
      " [ 6  8 10]\n",
      " [12 14 16]]\n",
      "[[ 0  2  8]\n",
      " [ 0  8 20]\n",
      " [ 0 14 32]]\n",
      "[30 36 42]\n"
     ]
    }
   ],
   "source": [
    "d = one_d * two_d\n",
    "print(one_d)\n",
    "print(two_d)\n",
    "print(d)  # multiplying columns by each element in one_d\n",
    "print(np.dot(one_d,two_d))  # matrix mult"
   ]
  },
  {
   "cell_type": "code",
   "execution_count": 19,
   "metadata": {
    "collapsed": false,
    "jupyter": {
     "outputs_hidden": false
    }
   },
   "outputs": [
    {
     "name": "stdout",
     "output_type": "stream",
     "text": [
      "[[0.         1.41421356 2.82842712]\n",
      " [0.         2.82842712 4.47213595]\n",
      " [0.         3.74165739 5.65685425]]\n",
      "[[0.         1.41421356 2.82842712]\n",
      " [0.         2.82842712 4.47213595]\n",
      " [0.         3.74165739 5.65685425]]\n"
     ]
    }
   ],
   "source": [
    "print(d**0.5)\n",
    "print(np.sqrt(d))"
   ]
  },
  {
   "cell_type": "markdown",
   "metadata": {},
   "source": [
    "### Dictionaries\n",
    "* Dictionaries are just like the `struct` variables in C++\n",
    "* They contain variables of different type\n",
    "* Elements are referenced by a string, integer, or float\n",
    "* It's usually best practice to avoid floats as references (known as keys) because of precision issues\n",
    "* In practice, I find them the most usefuls for storing parameters in calculations\n",
    "* They can be defined in the two following manners"
   ]
  },
  {
   "cell_type": "code",
   "execution_count": 20,
   "metadata": {
    "collapsed": false,
    "jupyter": {
     "outputs_hidden": false
    }
   },
   "outputs": [
    {
     "name": "stdout",
     "output_type": "stream",
     "text": [
      "dict1 = {'one': 1, 'two': 2, 'three': 3}\n",
      "dict2 = {'one': 1, 'two': 2, 'three': 3}\n",
      "dict1 == dict2? True\n"
     ]
    }
   ],
   "source": [
    "dict1 = dict(one=1, two=2, three=3)\n",
    "dict2 = {'one': 1, 'two': 2, 'three': 3}\n",
    "print('dict1 = %s' % (dict1))\n",
    "print('dict2 = %s' % (dict2))\n",
    "print('dict1 == dict2? %s' % (dict1 == dict2))"
   ]
  },
  {
   "cell_type": "markdown",
   "metadata": {},
   "source": [
    "* Notice that they are not in the order in which we assigned them.\n",
    "* We can inspect the keys with the `keys()` method"
   ]
  },
  {
   "cell_type": "code",
   "execution_count": 21,
   "metadata": {
    "collapsed": false,
    "jupyter": {
     "outputs_hidden": false
    }
   },
   "outputs": [
    {
     "name": "stdout",
     "output_type": "stream",
     "text": [
      "dict_keys(['one', 'two', 'three'])\n"
     ]
    }
   ],
   "source": [
    "print(dict1.keys())"
   ]
  },
  {
   "cell_type": "markdown",
   "metadata": {},
   "source": [
    "* We can access and modify individual elements of the dictionary\n",
    "* We can also add new elements to the dictionary"
   ]
  },
  {
   "cell_type": "code",
   "execution_count": 22,
   "metadata": {
    "collapsed": false,
    "jupyter": {
     "outputs_hidden": false
    }
   },
   "outputs": [
    {
     "name": "stdout",
     "output_type": "stream",
     "text": [
      "1\n",
      "{'one': -1, 'two': 2, 'three': 3}\n"
     ]
    }
   ],
   "source": [
    "print(dict1['one'])\n",
    "dict1['one'] *= -1\n",
    "print(dict1)"
   ]
  },
  {
   "cell_type": "code",
   "execution_count": 23,
   "metadata": {
    "collapsed": false,
    "jupyter": {
     "outputs_hidden": false
    }
   },
   "outputs": [
    {
     "name": "stdout",
     "output_type": "stream",
     "text": [
      "{'one': -1, 'two': 2, 'three': 3, 4: -44, 10: 'str'}\n"
     ]
    }
   ],
   "source": [
    "dict1[4] = -44\n",
    "dict1[10] = 'str'\n",
    "print(dict1)"
   ]
  },
  {
   "cell_type": "markdown",
   "metadata": {},
   "source": [
    "Dictionaries have the following methods, which you can look up their meanings in the built-in help."
   ]
  },
  {
   "cell_type": "code",
   "execution_count": 24,
   "metadata": {
    "collapsed": false,
    "jupyter": {
     "outputs_hidden": false
    }
   },
   "outputs": [
    {
     "name": "stdout",
     "output_type": "stream",
     "text": [
      "['clear', 'copy', 'fromkeys', 'get', 'items', 'keys', 'pop', 'popitem', 'setdefault', 'update', 'values']\n"
     ]
    }
   ],
   "source": [
    "print([d for d in dir(dict1) if not d.startswith('__')])"
   ]
  },
  {
   "cell_type": "markdown",
   "metadata": {},
   "source": [
    "## For-loops \n",
    "\n",
    "[Problem #1 within section]"
   ]
  },
  {
   "cell_type": "markdown",
   "metadata": {},
   "source": [
    "* for-loops are much more common in programming than while-loops\n",
    "* In python, they loop over what's called an iterator\n",
    "* For our purposes, this is usually a list\n",
    "* The most basic for-loop that's taught in programming classes use a counter variable.  For example in C++\n",
    "\n",
    "```c++\n",
    "for (i = 0; i < 3; i++) {\n",
    "    a = i*i;\n",
    "}\n",
    "```\n",
    "\n",
    "* And in Matlab,\n",
    "\n",
    "```matlab\n",
    "for i = 0:3\n",
    "    a = i*i;\n",
    "end\n",
    "```\n",
    "\n",
    "* In python, we can use the `range()` function that gives you a list of integers.\n",
    "    * If given 1 argument n, it will return a list from 0 to n-1.\n",
    "    * If given 2 arguments m and n, it will return a list from m to n-1.\n",
    "    * If given 3 arguments m, n, and k, it will return a list from m to n-1 for every $k^{th}$ integer"
   ]
  },
  {
   "cell_type": "code",
   "execution_count": 25,
   "metadata": {},
   "outputs": [
    {
     "name": "stdout",
     "output_type": "stream",
     "text": [
      "0\n",
      "1\n",
      "4\n"
     ]
    }
   ],
   "source": [
    "for i in range(3):\n",
    "    print(i*i)"
   ]
  },
  {
   "cell_type": "markdown",
   "metadata": {},
   "source": [
    "Using `range()` as an iterator in the loop, we get"
   ]
  },
  {
   "cell_type": "code",
   "execution_count": 26,
   "metadata": {
    "collapsed": false,
    "jupyter": {
     "outputs_hidden": false
    }
   },
   "outputs": [
    {
     "name": "stdout",
     "output_type": "stream",
     "text": [
      "5 25\n",
      "6 36\n",
      "7 49\n",
      "8 64\n",
      "9 81\n"
     ]
    }
   ],
   "source": [
    "for i in range(5,10):\n",
    "    print(i, i**2)"
   ]
  },
  {
   "cell_type": "markdown",
   "metadata": {},
   "source": [
    "When looping through a list, it's usually useful to have a counter variable to indicate which element we are inspecting.  We could do the following."
   ]
  },
  {
   "cell_type": "code",
   "execution_count": 27,
   "metadata": {
    "collapsed": false,
    "jupyter": {
     "outputs_hidden": false
    }
   },
   "outputs": [
    {
     "name": "stdout",
     "output_type": "stream",
     "text": [
      "The square of the 0-th element of a is 25\n",
      "The 0-th element of b is 12\n",
      "\n",
      "The square of the 1-th element of a is 1\n",
      "The 1-th element of b is 4\n",
      "\n",
      "The square of the 2-th element of a is 529\n",
      "The 2-th element of b is 13\n",
      "\n",
      "The square of the 3-th element of a is 1849\n",
      "The 3-th element of b is 1\n",
      "\n"
     ]
    }
   ],
   "source": [
    "a = [5,1,23,43]\n",
    "b = [12,4,13,1]\n",
    "i = 0\n",
    "for el in a:\n",
    "    print(\"The square of the %d-th element of a is %d\" % (i, el**2))\n",
    "    print(\"The %d-th element of b is %d\" % (i, b[i]))\n",
    "    print(\"\")\n",
    "    i += 1"
   ]
  },
  {
   "cell_type": "markdown",
   "metadata": {},
   "source": [
    "But python has the handy `enumerate()` method that returns a counter variable and the element of the iterator."
   ]
  },
  {
   "cell_type": "code",
   "execution_count": 28,
   "metadata": {
    "collapsed": false,
    "jupyter": {
     "outputs_hidden": false
    }
   },
   "outputs": [
    {
     "name": "stdout",
     "output_type": "stream",
     "text": [
      "0 5\n",
      "1 1\n",
      "2 23\n",
      "3 43\n"
     ]
    }
   ],
   "source": [
    "for i, el in enumerate(a):\n",
    "    print(i, el)"
   ]
  },
  {
   "cell_type": "code",
   "execution_count": 29,
   "metadata": {},
   "outputs": [
    {
     "name": "stdout",
     "output_type": "stream",
     "text": [
      "0 0 1 6\n",
      "0 1 1 7\n",
      "0 2 1 8\n",
      "1 0 2 6\n",
      "1 1 2 7\n",
      "1 2 2 8\n",
      "2 0 3 6\n",
      "2 1 3 7\n",
      "2 2 3 8\n"
     ]
    }
   ],
   "source": [
    "a = [1, 2, 3]\n",
    "b = [6,7,8]\n",
    "for ia, aa in enumerate(a):\n",
    "    for ib, bb in enumerate(b):\n",
    "        print(ia, ib, aa, bb)"
   ]
  },
  {
   "cell_type": "markdown",
   "metadata": {},
   "source": [
    "#### Problem 1: Create a dictionary with at least four different keys. Loop over each item in the dictionary and print out the key and item value."
   ]
  },
  {
   "cell_type": "code",
   "execution_count": null,
   "metadata": {
    "collapsed": false,
    "jupyter": {
     "outputs_hidden": false
    }
   },
   "outputs": [],
   "source": [
    "# define dictionary (four keys with an item)\n",
    "\n",
    "# create for loop and print out key and item value"
   ]
  },
  {
   "cell_type": "markdown",
   "metadata": {},
   "source": [
    "* **For math operations, LOOPS ARE BAD in python.**  They will always be slower than direct array arithmetic. (Note this is not the case for C++ or other compiled languages.)\n",
    "* Suppose if we want to create an array with cubes up to 10.\n",
    "* `arange()` is the same as the built-in `range()` method, but returns an array instead of a list"
   ]
  },
  {
   "cell_type": "code",
   "execution_count": 30,
   "metadata": {
    "collapsed": false,
    "jupyter": {
     "outputs_hidden": false
    }
   },
   "outputs": [
    {
     "name": "stdout",
     "output_type": "stream",
     "text": [
      "[   1.    8.   27.   64.  125.  216.  343.  512.  729. 1000.]\n"
     ]
    }
   ],
   "source": [
    "# Looping (bad)\n",
    "N = 10\n",
    "a = np.arange(1,N+1)\n",
    "b = np.zeros(N)\n",
    "for i, num in enumerate(a):\n",
    "    b[i] = num**3.0\n",
    "print(b)"
   ]
  },
  {
   "cell_type": "code",
   "execution_count": 31,
   "metadata": {
    "collapsed": false,
    "jupyter": {
     "outputs_hidden": false
    }
   },
   "outputs": [
    {
     "name": "stdout",
     "output_type": "stream",
     "text": [
      "[   1.    8.   27.   64.  125.  216.  343.  512.  729. 1000.]\n"
     ]
    }
   ],
   "source": [
    "# Array arithmetic (good)\n",
    "b = a**3.\n",
    "print(b)"
   ]
  },
  {
   "cell_type": "markdown",
   "metadata": {},
   "source": [
    "* This is a simple example, but the speed increases become more apparent for large operations.\n",
    "* Let's time it, taking a list of 100,000 numbers to the 5/2 power"
   ]
  },
  {
   "cell_type": "code",
   "execution_count": 32,
   "metadata": {
    "collapsed": false,
    "jupyter": {
     "outputs_hidden": false
    }
   },
   "outputs": [
    {
     "name": "stdout",
     "output_type": "stream",
     "text": [
      "Looping took 30.844876 seconds\n",
      "One array operation took 0.342063 seconds (90.2x speedup)\n"
     ]
    }
   ],
   "source": [
    "import time\n",
    "\n",
    "N = 10000000\n",
    "a = np.arange(1,N+1)\n",
    "b = np.zeros(N)\n",
    "\n",
    "start = time.time()\n",
    "for i, num in enumerate(a):\n",
    "    b[i] = num**2.5\n",
    "end = time.time()\n",
    "looptime = end-start\n",
    "print(\"Looping took %f seconds\" % (looptime))\n",
    "\n",
    "\n",
    "start = time.time()\n",
    "b = a**2.5\n",
    "end = time.time()\n",
    "print(\"One array operation took %f seconds (%.1fx speedup)\" % (end-start, looptime/(end-start)))"
   ]
  },
  {
   "cell_type": "markdown",
   "metadata": {},
   "source": [
    "## User-defined function \n",
    "\n",
    "[Problem #2 within section]"
   ]
  },
  {
   "cell_type": "markdown",
   "metadata": {},
   "source": [
    "* As with any programming language, we can define functions and routines.\n",
    "* Programming blocks inside functions are delineated by indentation, just like if-statements and loops.\n",
    "* Below is an example of a factorial function."
   ]
  },
  {
   "cell_type": "code",
   "execution_count": 33,
   "metadata": {},
   "outputs": [],
   "source": [
    "def factorial(n):\n",
    "    f = 1.0\n",
    "    for k in range(1,n+1):\n",
    "        f *= k\n",
    "    return f"
   ]
  },
  {
   "cell_type": "code",
   "execution_count": 34,
   "metadata": {
    "collapsed": false,
    "jupyter": {
     "outputs_hidden": false
    }
   },
   "outputs": [
    {
     "name": "stdout",
     "output_type": "stream",
     "text": [
      "120.0\n"
     ]
    }
   ],
   "source": [
    "fivebang = factorial(5)\n",
    "print(fivebang)"
   ]
  },
  {
   "cell_type": "markdown",
   "metadata": {},
   "source": [
    "#### Problem #2: Write a function to calculate convert polar coordinates to cartesian coordinates"
   ]
  },
  {
   "cell_type": "code",
   "execution_count": null,
   "metadata": {
    "collapsed": false,
    "jupyter": {
     "outputs_hidden": false
    }
   },
   "outputs": [],
   "source": [
    "def cartesian(r, theta, phi=np.pi/2, array=True):\n",
    "\n",
    "    # fill in this function     \n",
    "\n",
    "# test the function"
   ]
  },
  {
   "cell_type": "markdown",
   "metadata": {},
   "source": [
    "## Graphics and Visualization  \n",
    "\n",
    "[Problem #3 within section]"
   ]
  },
  {
   "cell_type": "markdown",
   "metadata": {},
   "source": [
    "Import the matplotlib graphics package.\n",
    "* It can do many different things. Look at its gallery to see a wide range of possible plots.\n",
    "* http://matplotlib.org/gallery.html\n",
    "* There are two ways to import the package (only import one of the following lines!)"
   ]
  },
  {
   "cell_type": "code",
   "execution_count": 36,
   "metadata": {},
   "outputs": [],
   "source": [
    "import matplotlib.pyplot as plt\n",
    "#import pylab as plt"
   ]
  },
  {
   "cell_type": "markdown",
   "metadata": {},
   "source": [
    "* I usually use the first one out of habit, but there's very little differences between the two.\n",
    "* These two lines -- magic then import -- are necessary to include graphics in a notebook.\n",
    "* The syntax is very similar to matlab but still different.\n",
    "* So you'll probably be looking in the documentation frequently as you become familiar with matplotlib.\n",
    "* We can also set plotting defaults in the `rcParams` dictionary of matplotlib.  For system-wide defaults, see the instructions on [this page](https://matplotlib.org/tutorials/introductory/customizing.html#the-matplotlibrc-file)."
   ]
  },
  {
   "cell_type": "code",
   "execution_count": 37,
   "metadata": {},
   "outputs": [],
   "source": [
    "from matplotlib import rcParams\n",
    "rcParams['figure.figsize'] = (10,8)  # in inches\n",
    "rcParams['font.size'] = 16"
   ]
  },
  {
   "cell_type": "markdown",
   "metadata": {},
   "source": [
    "### First example\n",
    "* Plotting a list of numbers\n",
    "* When given a list, matplotlib will assume that they are the `y` values and show them versus a list of integers (0 -> N).\n",
    "* In notebooks, you show always issue the `show()` routine to display the graph.  Otherwise, the plot might not display correctly."
   ]
  },
  {
   "cell_type": "code",
   "execution_count": 38,
   "metadata": {},
   "outputs": [
    {
     "data": {
      "image/png": "[encoded data removed]",
      "text/plain": [
       "<Figure size 1000x800 with 1 Axes>"
      ]
     },
     "metadata": {},
     "output_type": "display_data"
    }
   ],
   "source": [
    "y = [19, 11, 2, 10.1, 9, 1]\n",
    "plt.plot(y)\n",
    "plt.show()"
   ]
  },
  {
   "cell_type": "markdown",
   "metadata": {},
   "source": [
    "* We can modify various aspects of the plot.\n",
    "* First let's look at the line style and colors.\n",
    "* Color is denoted by a single character: r,g,b,c,m,y,k,w indicate red, green, blue, cyan, magneta, yellow, black, and white.\n",
    "* Line styles are denoted by \"-\", \"--\", \":\", \"-.\" for solid, dashed, dotted, and dash-dotted lines\n",
    "* Data points can be shown with \"s\", \"o\", \"^\" for square, circle, and triangle points\n",
    "* There are many different options, which can be found at http://matplotlib.org/api/pyplot_api.html#matplotlib.pyplot.plot"
   ]
  },
  {
   "cell_type": "code",
   "execution_count": 39,
   "metadata": {},
   "outputs": [
    {
     "data": {
      "image/png": "[encoded data removed]",
      "text/plain": [
       "<Figure size 1000x800 with 1 Axes>"
      ]
     },
     "metadata": {},
     "output_type": "display_data"
    }
   ],
   "source": [
    "plt.plot(y, \"r:\")  # c = color, ls = linestyle\n",
    "plt.show()"
   ]
  },
  {
   "cell_type": "code",
   "execution_count": 40,
   "metadata": {},
   "outputs": [
    {
     "data": {
      "image/png": "[encoded data removed]",
      "text/plain": [
       "<Figure size 1000x800 with 1 Axes>"
      ]
     },
     "metadata": {},
     "output_type": "display_data"
    }
   ],
   "source": [
    "plt.plot(y, c=\"g\", ls=\":\", marker=\"s\", mec=\"b\", mew=3, ms=20, lw=4)\n",
    "plt.show()"
   ]
  },
  {
   "cell_type": "code",
   "execution_count": 41,
   "metadata": {},
   "outputs": [
    {
     "data": {
      "image/png": "[encoded data removed]",
      "text/plain": [
       "<Figure size 1000x800 with 1 Axes>"
      ]
     },
     "metadata": {},
     "output_type": "display_data"
    }
   ],
   "source": [
    "plt.plot(y, \"g:s\")#, marker=\"s\")\n",
    "#plt.plot(y, c=\"g\", ls=\":\", marker=\"s\")\n",
    "plt.show()"
   ]
  },
  {
   "cell_type": "code",
   "execution_count": 42,
   "metadata": {},
   "outputs": [
    {
     "data": {
      "image/png": "[encoded data removed]",
      "text/plain": [
       "<Figure size 1000x800 with 1 Axes>"
      ]
     },
     "metadata": {},
     "output_type": "display_data"
    }
   ],
   "source": [
    "plt.plot(y, c='g', ls=':', marker='s', mec='r', ms=16, mew=3, lw=3)  \n",
    "# ms = marker size, mec = marker edge color, mew = marker edge width, lw = linewidth\n",
    "plt.show()"
   ]
  },
  {
   "cell_type": "markdown",
   "metadata": {},
   "source": [
    "#### Including x values\n",
    "* It's straightforward to give corresponding x-values to the y-values\n",
    "* They need to have the same length."
   ]
  },
  {
   "cell_type": "code",
   "execution_count": 43,
   "metadata": {},
   "outputs": [
    {
     "data": {
      "image/png": "[encoded data removed]",
      "text/plain": [
       "<Figure size 1000x800 with 1 Axes>"
      ]
     },
     "metadata": {},
     "output_type": "display_data"
    }
   ],
   "source": [
    "x = [1,1.2,2,3.6,5,10]\n",
    "plt.plot(x, y, c='g', lw=3, marker='o')  # lw = linewidth\n",
    "plt.xlabel('x [m]')\n",
    "plt.ylabel('y [N]')\n",
    "plt.xlim(0.9, 10.1)\n",
    "plt.show()"
   ]
  },
  {
   "cell_type": "markdown",
   "metadata": {},
   "source": [
    "#### Problem 3: Plot `sin()` and `cos()` curves within a single figure.\n",
    "* Create a `theta` variable that goes from 0 to $4\\pi$ and then plot the sine and cosine functions.\n",
    "* Add x and y labels to the plot in addition to a legend\n",
    "    * Label each curve using a keyword in `plt.plot()` to create item name for the legend\n",
    "        * Format labels using $\\LaTeX$ syntax (hint: start with an `r` to tell matplotlib that it's a \"raw\" string)\n",
    "    * Place the legend in the plot using `plt.legend()`\n",
    "    * Use `plt.xlabel()` and `plt.ylabel()` to create x and y labels \n"
   ]
  },
  {
   "cell_type": "code",
   "execution_count": null,
   "metadata": {},
   "outputs": [],
   "source": [
    "# use np.linspace to define theta variable \n",
    "\n",
    "# create figure \n",
    "\n",
    "# add sin and cos functions \n",
    "\n",
    "# labels axes \n",
    "\n",
    "# show plot"
   ]
  },
  {
   "cell_type": "markdown",
   "metadata": {},
   "source": [
    "## Good programming style\n",
    "1. Include comments in your programs (or markdown in notebooks)\n",
    "2. Use meaningful variable names\n",
    "3. Use the right types of variables\n",
    "4. Import functions and modules first\n",
    "5. Give your constants names\n",
    "6. Employ user-defined functions and modularity, where appropriate\n",
    "7. Print out partial results and updates throughout your program\n",
    "8. Lay out your programs clearly.\n",
    "9. Don't make your programs unnecessarily complicated.\n",
    "\n",
    "Remember that good programming, like good science, is a matter of creativity as well as technical skill.  Computers are a tool that are mallable to a programmer's needs."
   ]
  }
 ],
 "metadata": {
  "kernelspec": {
   "display_name": "Python 3",
   "language": "python",
   "name": "python3"
  },
  "language_info": {
   "codemirror_mode": {
    "name": "ipython",
    "version": 3
   },
   "file_extension": ".py",
   "mimetype": "text/x-python",
   "name": "python",
   "nbconvert_exporter": "python",
   "pygments_lexer": "ipython3",
   "version": "3.8.12"
  }
 },
 "nbformat": 4,
 "nbformat_minor": 4
}
